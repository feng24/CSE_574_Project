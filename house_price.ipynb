{
 "cells": [
  {
   "cell_type": "code",
   "execution_count": 1,
   "metadata": {},
   "outputs": [
    {
     "name": "stdout",
     "output_type": "stream",
     "text": [
      "Collecting kaggle\n",
      "\u001b[?25l  Downloading https://files.pythonhosted.org/packages/62/ab/bb20f9b9e24f9a6250f95a432f8d9a7d745f8d24039d7a5a6eaadb7783ba/kaggle-1.5.6.tar.gz (58kB)\n",
      "\u001b[K     |████████████████████████████████| 61kB 1.7MB/s eta 0:00:01\n",
      "\u001b[?25hRequirement already satisfied: urllib3<1.25,>=1.21.1 in ./anaconda3/lib/python3.7/site-packages (from kaggle) (1.24.2)\n",
      "Requirement already satisfied: six>=1.10 in ./anaconda3/lib/python3.7/site-packages (from kaggle) (1.12.0)\n",
      "Requirement already satisfied: certifi in ./anaconda3/lib/python3.7/site-packages (from kaggle) (2019.6.16)\n",
      "Requirement already satisfied: python-dateutil in ./anaconda3/lib/python3.7/site-packages (from kaggle) (2.8.0)\n",
      "Requirement already satisfied: requests in ./anaconda3/lib/python3.7/site-packages (from kaggle) (2.22.0)\n",
      "Requirement already satisfied: tqdm in ./anaconda3/lib/python3.7/site-packages (from kaggle) (4.32.1)\n",
      "Collecting python-slugify (from kaggle)\n",
      "  Downloading https://files.pythonhosted.org/packages/92/5f/7b84a0bba8a0fdd50c046f8b57dcf179dc16237ad33446079b7c484de04c/python-slugify-4.0.0.tar.gz\n",
      "Requirement already satisfied: idna<2.9,>=2.5 in ./anaconda3/lib/python3.7/site-packages (from requests->kaggle) (2.8)\n",
      "Requirement already satisfied: chardet<3.1.0,>=3.0.2 in ./anaconda3/lib/python3.7/site-packages (from requests->kaggle) (3.0.4)\n",
      "Collecting text-unidecode>=1.3 (from python-slugify->kaggle)\n",
      "\u001b[?25l  Downloading https://files.pythonhosted.org/packages/a6/a5/c0b6468d3824fe3fde30dbb5e1f687b291608f9473681bbf7dabbf5a87d7/text_unidecode-1.3-py2.py3-none-any.whl (78kB)\n",
      "\u001b[K     |████████████████████████████████| 81kB 4.3MB/s eta 0:00:011\n",
      "\u001b[?25hBuilding wheels for collected packages: kaggle, python-slugify\n",
      "  Building wheel for kaggle (setup.py) ... \u001b[?25ldone\n",
      "\u001b[?25h  Stored in directory: /Users/fengyongxiang/Library/Caches/pip/wheels/57/4e/e8/bb28d035162fb8f17f8ca5d42c3230e284c6aa565b42b72674\n",
      "  Building wheel for python-slugify (setup.py) ... \u001b[?25ldone\n",
      "\u001b[?25h  Stored in directory: /Users/fengyongxiang/Library/Caches/pip/wheels/11/94/81/312969455540cb0e6a773e5d68a73c14128bfdfd4a7969bb4f\n",
      "Successfully built kaggle python-slugify\n",
      "Installing collected packages: text-unidecode, python-slugify, kaggle\n",
      "Successfully installed kaggle-1.5.6 python-slugify-4.0.0 text-unidecode-1.3\n"
     ]
    }
   ],
   "source": [
    "!pip install kaggle"
   ]
  },
  {
   "cell_type": "code",
   "execution_count": 2,
   "metadata": {},
   "outputs": [
    {
     "name": "stdout",
     "output_type": "stream",
     "text": [
      "mv: rename kaggle.json to /Users/fengyongxiang/.kaggle/kaggle.json: No such file or directory\r\n"
     ]
    }
   ],
   "source": [
    "! mkdir -p ~/.kaggle/\n",
    "! mv kaggle.json ~/.kaggle/"
   ]
  },
  {
   "cell_type": "code",
   "execution_count": 3,
   "metadata": {},
   "outputs": [],
   "source": [
    "! mkdir -p ~/.kaggle/"
   ]
  },
  {
   "cell_type": "code",
   "execution_count": 6,
   "metadata": {},
   "outputs": [
    {
     "name": "stdout",
     "output_type": "stream",
     "text": [
      "Warning: Your Kaggle API key is readable by other users on this system! To fix this, you can run 'chmod 600 /Users/fengyongxiang/.kaggle/kaggle.json'\n",
      "Downloading house-prices-advanced-regression-techniques.zip to /Users/fengyongxiang\n",
      "  0%|                                                | 0.00/199k [00:00<?, ?B/s]\n",
      "100%|████████████████████████████████████████| 199k/199k [00:00<00:00, 2.86MB/s]\n"
     ]
    }
   ],
   "source": [
    "! kaggle competitions download -c house-prices-advanced-regression-techniques"
   ]
  },
  {
   "cell_type": "code",
   "execution_count": 8,
   "metadata": {},
   "outputs": [],
   "source": [
    "!chmod 600 /Users/fengyongxiang/.kaggle/kaggle.json"
   ]
  },
  {
   "cell_type": "code",
   "execution_count": 9,
   "metadata": {},
   "outputs": [
    {
     "name": "stdout",
     "output_type": "stream",
     "text": [
      "Archive:  house-prices-advanced-regression-techniques.zip\r\n",
      "  inflating: data_description.txt    \r\n",
      "  inflating: sample_submission.csv   \r\n",
      "  inflating: test.csv                \r\n",
      "  inflating: train.csv               \r\n"
     ]
    }
   ],
   "source": [
    "! unzip house-prices-advanced-regression-techniques.zip"
   ]
  },
  {
   "cell_type": "code",
   "execution_count": 2,
   "metadata": {},
   "outputs": [
    {
     "name": "stderr",
     "output_type": "stream",
     "text": [
      "/Users/fengyongxiang/anaconda3/lib/python3.7/importlib/_bootstrap.py:219: RuntimeWarning: numpy.ufunc size changed, may indicate binary incompatibility. Expected 192 from C header, got 216 from PyObject\n",
      "  return f(*args, **kwds)\n"
     ]
    },
    {
     "data": {
      "text/html": [
       "<div>\n",
       "<style scoped>\n",
       "    .dataframe tbody tr th:only-of-type {\n",
       "        vertical-align: middle;\n",
       "    }\n",
       "\n",
       "    .dataframe tbody tr th {\n",
       "        vertical-align: top;\n",
       "    }\n",
       "\n",
       "    .dataframe thead th {\n",
       "        text-align: right;\n",
       "    }\n",
       "</style>\n",
       "<table border=\"1\" class=\"dataframe\">\n",
       "  <thead>\n",
       "    <tr style=\"text-align: right;\">\n",
       "      <th></th>\n",
       "      <th>Id</th>\n",
       "      <th>MSSubClass</th>\n",
       "      <th>MSZoning</th>\n",
       "      <th>LotFrontage</th>\n",
       "      <th>LotArea</th>\n",
       "      <th>Street</th>\n",
       "      <th>Alley</th>\n",
       "      <th>LotShape</th>\n",
       "      <th>LandContour</th>\n",
       "      <th>Utilities</th>\n",
       "      <th>...</th>\n",
       "      <th>PoolArea</th>\n",
       "      <th>PoolQC</th>\n",
       "      <th>Fence</th>\n",
       "      <th>MiscFeature</th>\n",
       "      <th>MiscVal</th>\n",
       "      <th>MoSold</th>\n",
       "      <th>YrSold</th>\n",
       "      <th>SaleType</th>\n",
       "      <th>SaleCondition</th>\n",
       "      <th>SalePrice</th>\n",
       "    </tr>\n",
       "  </thead>\n",
       "  <tbody>\n",
       "    <tr>\n",
       "      <th>0</th>\n",
       "      <td>1</td>\n",
       "      <td>60</td>\n",
       "      <td>RL</td>\n",
       "      <td>65.0</td>\n",
       "      <td>8450</td>\n",
       "      <td>Pave</td>\n",
       "      <td>NaN</td>\n",
       "      <td>Reg</td>\n",
       "      <td>Lvl</td>\n",
       "      <td>AllPub</td>\n",
       "      <td>...</td>\n",
       "      <td>0</td>\n",
       "      <td>NaN</td>\n",
       "      <td>NaN</td>\n",
       "      <td>NaN</td>\n",
       "      <td>0</td>\n",
       "      <td>2</td>\n",
       "      <td>2008</td>\n",
       "      <td>WD</td>\n",
       "      <td>Normal</td>\n",
       "      <td>208500</td>\n",
       "    </tr>\n",
       "    <tr>\n",
       "      <th>1</th>\n",
       "      <td>2</td>\n",
       "      <td>20</td>\n",
       "      <td>RL</td>\n",
       "      <td>80.0</td>\n",
       "      <td>9600</td>\n",
       "      <td>Pave</td>\n",
       "      <td>NaN</td>\n",
       "      <td>Reg</td>\n",
       "      <td>Lvl</td>\n",
       "      <td>AllPub</td>\n",
       "      <td>...</td>\n",
       "      <td>0</td>\n",
       "      <td>NaN</td>\n",
       "      <td>NaN</td>\n",
       "      <td>NaN</td>\n",
       "      <td>0</td>\n",
       "      <td>5</td>\n",
       "      <td>2007</td>\n",
       "      <td>WD</td>\n",
       "      <td>Normal</td>\n",
       "      <td>181500</td>\n",
       "    </tr>\n",
       "    <tr>\n",
       "      <th>2</th>\n",
       "      <td>3</td>\n",
       "      <td>60</td>\n",
       "      <td>RL</td>\n",
       "      <td>68.0</td>\n",
       "      <td>11250</td>\n",
       "      <td>Pave</td>\n",
       "      <td>NaN</td>\n",
       "      <td>IR1</td>\n",
       "      <td>Lvl</td>\n",
       "      <td>AllPub</td>\n",
       "      <td>...</td>\n",
       "      <td>0</td>\n",
       "      <td>NaN</td>\n",
       "      <td>NaN</td>\n",
       "      <td>NaN</td>\n",
       "      <td>0</td>\n",
       "      <td>9</td>\n",
       "      <td>2008</td>\n",
       "      <td>WD</td>\n",
       "      <td>Normal</td>\n",
       "      <td>223500</td>\n",
       "    </tr>\n",
       "    <tr>\n",
       "      <th>3</th>\n",
       "      <td>4</td>\n",
       "      <td>70</td>\n",
       "      <td>RL</td>\n",
       "      <td>60.0</td>\n",
       "      <td>9550</td>\n",
       "      <td>Pave</td>\n",
       "      <td>NaN</td>\n",
       "      <td>IR1</td>\n",
       "      <td>Lvl</td>\n",
       "      <td>AllPub</td>\n",
       "      <td>...</td>\n",
       "      <td>0</td>\n",
       "      <td>NaN</td>\n",
       "      <td>NaN</td>\n",
       "      <td>NaN</td>\n",
       "      <td>0</td>\n",
       "      <td>2</td>\n",
       "      <td>2006</td>\n",
       "      <td>WD</td>\n",
       "      <td>Abnorml</td>\n",
       "      <td>140000</td>\n",
       "    </tr>\n",
       "    <tr>\n",
       "      <th>4</th>\n",
       "      <td>5</td>\n",
       "      <td>60</td>\n",
       "      <td>RL</td>\n",
       "      <td>84.0</td>\n",
       "      <td>14260</td>\n",
       "      <td>Pave</td>\n",
       "      <td>NaN</td>\n",
       "      <td>IR1</td>\n",
       "      <td>Lvl</td>\n",
       "      <td>AllPub</td>\n",
       "      <td>...</td>\n",
       "      <td>0</td>\n",
       "      <td>NaN</td>\n",
       "      <td>NaN</td>\n",
       "      <td>NaN</td>\n",
       "      <td>0</td>\n",
       "      <td>12</td>\n",
       "      <td>2008</td>\n",
       "      <td>WD</td>\n",
       "      <td>Normal</td>\n",
       "      <td>250000</td>\n",
       "    </tr>\n",
       "  </tbody>\n",
       "</table>\n",
       "<p>5 rows × 81 columns</p>\n",
       "</div>"
      ],
      "text/plain": [
       "   Id  MSSubClass MSZoning  LotFrontage  LotArea Street Alley LotShape  \\\n",
       "0   1          60       RL         65.0     8450   Pave   NaN      Reg   \n",
       "1   2          20       RL         80.0     9600   Pave   NaN      Reg   \n",
       "2   3          60       RL         68.0    11250   Pave   NaN      IR1   \n",
       "3   4          70       RL         60.0     9550   Pave   NaN      IR1   \n",
       "4   5          60       RL         84.0    14260   Pave   NaN      IR1   \n",
       "\n",
       "  LandContour Utilities  ... PoolArea PoolQC Fence MiscFeature MiscVal MoSold  \\\n",
       "0         Lvl    AllPub  ...        0    NaN   NaN         NaN       0      2   \n",
       "1         Lvl    AllPub  ...        0    NaN   NaN         NaN       0      5   \n",
       "2         Lvl    AllPub  ...        0    NaN   NaN         NaN       0      9   \n",
       "3         Lvl    AllPub  ...        0    NaN   NaN         NaN       0      2   \n",
       "4         Lvl    AllPub  ...        0    NaN   NaN         NaN       0     12   \n",
       "\n",
       "  YrSold  SaleType  SaleCondition  SalePrice  \n",
       "0   2008        WD         Normal     208500  \n",
       "1   2007        WD         Normal     181500  \n",
       "2   2008        WD         Normal     223500  \n",
       "3   2006        WD        Abnorml     140000  \n",
       "4   2008        WD         Normal     250000  \n",
       "\n",
       "[5 rows x 81 columns]"
      ]
     },
     "execution_count": 2,
     "metadata": {},
     "output_type": "execute_result"
    }
   ],
   "source": [
    "import pandas as pd\n",
    "import matplotlib.pyplot as plt\n",
    "\n",
    "train = pd.read_csv('train.csv')\n",
    "test = pd.read_csv('test.csv')\n",
    "\n",
    "# ID = train['Id']\n",
    "# print(ID.head(20))\n",
    "# plt.plot(ID)\n",
    "# plt.show()\n",
    "train.head()"
   ]
  },
  {
   "cell_type": "code",
   "execution_count": 3,
   "metadata": {},
   "outputs": [
    {
     "name": "stdout",
     "output_type": "stream",
     "text": [
      "<class 'pandas.core.frame.DataFrame'>\n",
      "RangeIndex: 1460 entries, 0 to 1459\n",
      "Data columns (total 81 columns):\n",
      "Id               1460 non-null int64\n",
      "MSSubClass       1460 non-null int64\n",
      "MSZoning         1460 non-null object\n",
      "LotFrontage      1201 non-null float64\n",
      "LotArea          1460 non-null int64\n",
      "Street           1460 non-null object\n",
      "Alley            91 non-null object\n",
      "LotShape         1460 non-null object\n",
      "LandContour      1460 non-null object\n",
      "Utilities        1460 non-null object\n",
      "LotConfig        1460 non-null object\n",
      "LandSlope        1460 non-null object\n",
      "Neighborhood     1460 non-null object\n",
      "Condition1       1460 non-null object\n",
      "Condition2       1460 non-null object\n",
      "BldgType         1460 non-null object\n",
      "HouseStyle       1460 non-null object\n",
      "OverallQual      1460 non-null int64\n",
      "OverallCond      1460 non-null int64\n",
      "YearBuilt        1460 non-null int64\n",
      "YearRemodAdd     1460 non-null int64\n",
      "RoofStyle        1460 non-null object\n",
      "RoofMatl         1460 non-null object\n",
      "Exterior1st      1460 non-null object\n",
      "Exterior2nd      1460 non-null object\n",
      "MasVnrType       1452 non-null object\n",
      "MasVnrArea       1452 non-null float64\n",
      "ExterQual        1460 non-null object\n",
      "ExterCond        1460 non-null object\n",
      "Foundation       1460 non-null object\n",
      "BsmtQual         1423 non-null object\n",
      "BsmtCond         1423 non-null object\n",
      "BsmtExposure     1422 non-null object\n",
      "BsmtFinType1     1423 non-null object\n",
      "BsmtFinSF1       1460 non-null int64\n",
      "BsmtFinType2     1422 non-null object\n",
      "BsmtFinSF2       1460 non-null int64\n",
      "BsmtUnfSF        1460 non-null int64\n",
      "TotalBsmtSF      1460 non-null int64\n",
      "Heating          1460 non-null object\n",
      "HeatingQC        1460 non-null object\n",
      "CentralAir       1460 non-null object\n",
      "Electrical       1459 non-null object\n",
      "1stFlrSF         1460 non-null int64\n",
      "2ndFlrSF         1460 non-null int64\n",
      "LowQualFinSF     1460 non-null int64\n",
      "GrLivArea        1460 non-null int64\n",
      "BsmtFullBath     1460 non-null int64\n",
      "BsmtHalfBath     1460 non-null int64\n",
      "FullBath         1460 non-null int64\n",
      "HalfBath         1460 non-null int64\n",
      "BedroomAbvGr     1460 non-null int64\n",
      "KitchenAbvGr     1460 non-null int64\n",
      "KitchenQual      1460 non-null object\n",
      "TotRmsAbvGrd     1460 non-null int64\n",
      "Functional       1460 non-null object\n",
      "Fireplaces       1460 non-null int64\n",
      "FireplaceQu      770 non-null object\n",
      "GarageType       1379 non-null object\n",
      "GarageYrBlt      1379 non-null float64\n",
      "GarageFinish     1379 non-null object\n",
      "GarageCars       1460 non-null int64\n",
      "GarageArea       1460 non-null int64\n",
      "GarageQual       1379 non-null object\n",
      "GarageCond       1379 non-null object\n",
      "PavedDrive       1460 non-null object\n",
      "WoodDeckSF       1460 non-null int64\n",
      "OpenPorchSF      1460 non-null int64\n",
      "EnclosedPorch    1460 non-null int64\n",
      "3SsnPorch        1460 non-null int64\n",
      "ScreenPorch      1460 non-null int64\n",
      "PoolArea         1460 non-null int64\n",
      "PoolQC           7 non-null object\n",
      "Fence            281 non-null object\n",
      "MiscFeature      54 non-null object\n",
      "MiscVal          1460 non-null int64\n",
      "MoSold           1460 non-null int64\n",
      "YrSold           1460 non-null int64\n",
      "SaleType         1460 non-null object\n",
      "SaleCondition    1460 non-null object\n",
      "SalePrice        1460 non-null int64\n",
      "dtypes: float64(3), int64(35), object(43)\n",
      "memory usage: 924.0+ KB\n"
     ]
    }
   ],
   "source": [
    "train.describe()\n",
    "train.info()"
   ]
  },
  {
   "cell_type": "code",
   "execution_count": 4,
   "metadata": {},
   "outputs": [
    {
     "data": {
      "image/png": "[encoded data removed]",
      "text/plain": [
       "<Figure size 1440x1080 with 42 Axes>"
      ]
     },
     "metadata": {
      "needs_background": "light"
     },
     "output_type": "display_data"
    }
   ],
   "source": [
    "import matplotlib.pyplot as plt\n",
    "\n",
    "train.hist(bins=50, figsize=(20,15))\n",
    "plt.show()"
   ]
  },
  {
   "cell_type": "code",
   "execution_count": 5,
   "metadata": {},
   "outputs": [
    {
     "data": {
      "text/plain": [
       "<matplotlib.axes._subplots.AxesSubplot at 0x1a25908e80>"
      ]
     },
     "execution_count": 5,
     "metadata": {},
     "output_type": "execute_result"
    },
    {
     "data": {
      "image/png": "[encoded data removed]",
      "text/plain": [
       "<Figure size 432x288 with 1 Axes>"
      ]
     },
     "metadata": {
      "needs_background": "light"
     },
     "output_type": "display_data"
    }
   ],
   "source": [
    "train_copy = train.copy()\n",
    "train_copy.plot(kind='scatter', x='OverallQual', y='SalePrice', alpha = 0.2)"
   ]
  },
  {
   "cell_type": "code",
   "execution_count": 6,
   "metadata": {},
   "outputs": [
    {
     "data": {
      "text/plain": [
       "SalePrice        1.000000\n",
       "OverallQual      0.790982\n",
       "GrLivArea        0.708624\n",
       "GarageCars       0.640409\n",
       "GarageArea       0.623431\n",
       "TotalBsmtSF      0.613581\n",
       "1stFlrSF         0.605852\n",
       "FullBath         0.560664\n",
       "TotRmsAbvGrd     0.533723\n",
       "YearBuilt        0.522897\n",
       "YearRemodAdd     0.507101\n",
       "GarageYrBlt      0.486362\n",
       "MasVnrArea       0.477493\n",
       "Fireplaces       0.466929\n",
       "BsmtFinSF1       0.386420\n",
       "LotFrontage      0.351799\n",
       "WoodDeckSF       0.324413\n",
       "2ndFlrSF         0.319334\n",
       "OpenPorchSF      0.315856\n",
       "HalfBath         0.284108\n",
       "LotArea          0.263843\n",
       "BsmtFullBath     0.227122\n",
       "BsmtUnfSF        0.214479\n",
       "BedroomAbvGr     0.168213\n",
       "ScreenPorch      0.111447\n",
       "PoolArea         0.092404\n",
       "MoSold           0.046432\n",
       "3SsnPorch        0.044584\n",
       "BsmtFinSF2      -0.011378\n",
       "BsmtHalfBath    -0.016844\n",
       "MiscVal         -0.021190\n",
       "Id              -0.021917\n",
       "LowQualFinSF    -0.025606\n",
       "YrSold          -0.028923\n",
       "OverallCond     -0.077856\n",
       "MSSubClass      -0.084284\n",
       "EnclosedPorch   -0.128578\n",
       "KitchenAbvGr    -0.135907\n",
       "Name: SalePrice, dtype: float64"
      ]
     },
     "execution_count": 6,
     "metadata": {},
     "output_type": "execute_result"
    }
   ],
   "source": [
    "corr_train = train_copy.corr()\n",
    "corr_train['SalePrice'].sort_values(ascending = False)"
   ]
  },
  {
   "cell_type": "code",
   "execution_count": 7,
   "metadata": {},
   "outputs": [],
   "source": [
    "train_ = train.drop('SalePrice', axis = 1)\n",
    "train_lable = train['SalePrice'].copy()\n",
    "\n"
   ]
  },
  {
   "cell_type": "code",
   "execution_count": 8,
   "metadata": {},
   "outputs": [
    {
     "name": "stderr",
     "output_type": "stream",
     "text": [
      "/Users/fengyongxiang/anaconda3/lib/python3.7/importlib/_bootstrap.py:219: RuntimeWarning: numpy.ufunc size changed, may indicate binary incompatibility. Expected 192 from C header, got 216 from PyObject\n",
      "  return f(*args, **kwds)\n",
      "/Users/fengyongxiang/anaconda3/lib/python3.7/importlib/_bootstrap.py:219: RuntimeWarning: numpy.ufunc size changed, may indicate binary incompatibility. Expected 192 from C header, got 216 from PyObject\n",
      "  return f(*args, **kwds)\n"
     ]
    }
   ],
   "source": [
    "from sklearn.impute import SimpleImputer\n",
    "\n",
    "imputer = SimpleImputer(strategy = 'median')\n",
    "\n",
    "\n",
    "item = ['Alley','MSZoning','Street', 'LotShape',\n",
    "'LandContour',      \n",
    "'Utilities',       \n",
    "'LotConfig',        \n",
    "'LandSlope',        \n",
    "'Neighborhood',     \n",
    "'Condition1',       \n",
    "'Condition2',       \n",
    "'BldgType',         \n",
    "'HouseStyle',\n",
    "'RoofStyle',        \n",
    "'RoofMatl',       \n",
    "'Exterior1st',     \n",
    "'Exterior2nd',      \n",
    "'MasVnrType',     \n",
    "'ExterQual',       \n",
    "'ExterCond',       \n",
    "'Foundation',   \n",
    "'BsmtQual',        \n",
    "'BsmtCond',  \n",
    "'BsmtExposure',    \n",
    "'BsmtFinType1',\n",
    "'BsmtFinType2',\n",
    "'Heating',          \n",
    "'HeatingQC',      \n",
    "'CentralAir',      \n",
    "'Electrical',\n",
    "'KitchenQual',\n",
    "'FireplaceQu',\n",
    "'Functional',\n",
    "'GarageType',\n",
    "'GarageFinish',\n",
    "'GarageQual',      \n",
    "'GarageCond',    \n",
    "'PavedDrive',\n",
    "'PoolQC',           \n",
    "'Fence',           \n",
    "'MiscFeature',\n",
    "'SaleType',        \n",
    "'SaleCondition'   \n",
    "]\n",
    "\n",
    "train_copy.drop(columns=item, inplace=True)\n",
    "\n",
    "\n",
    "# train_copy.info()\n",
    "train_copy.describe()\n",
    "imputer.fit(train_copy)\n",
    "imputer.statistics_\n",
    "\n",
    "X = imputer.transform(train_copy)\n",
    "\n",
    "house_num = pd.DataFrame(X, columns=train_copy.columns)\n",
    "# print(imputer_)"
   ]
  },
  {
   "cell_type": "code",
   "execution_count": 9,
   "metadata": {},
   "outputs": [
    {
     "name": "stdout",
     "output_type": "stream",
     "text": [
      "<class 'pandas.core.frame.DataFrame'>\n",
      "RangeIndex: 1460 entries, 0 to 1459\n",
      "Data columns (total 38 columns):\n",
      "Id               1460 non-null float64\n",
      "MSSubClass       1460 non-null float64\n",
      "LotFrontage      1460 non-null float64\n",
      "LotArea          1460 non-null float64\n",
      "OverallQual      1460 non-null float64\n",
      "OverallCond      1460 non-null float64\n",
      "YearBuilt        1460 non-null float64\n",
      "YearRemodAdd     1460 non-null float64\n",
      "MasVnrArea       1460 non-null float64\n",
      "BsmtFinSF1       1460 non-null float64\n",
      "BsmtFinSF2       1460 non-null float64\n",
      "BsmtUnfSF        1460 non-null float64\n",
      "TotalBsmtSF      1460 non-null float64\n",
      "1stFlrSF         1460 non-null float64\n",
      "2ndFlrSF         1460 non-null float64\n",
      "LowQualFinSF     1460 non-null float64\n",
      "GrLivArea        1460 non-null float64\n",
      "BsmtFullBath     1460 non-null float64\n",
      "BsmtHalfBath     1460 non-null float64\n",
      "FullBath         1460 non-null float64\n",
      "HalfBath         1460 non-null float64\n",
      "BedroomAbvGr     1460 non-null float64\n",
      "KitchenAbvGr     1460 non-null float64\n",
      "TotRmsAbvGrd     1460 non-null float64\n",
      "Fireplaces       1460 non-null float64\n",
      "GarageYrBlt      1460 non-null float64\n",
      "GarageCars       1460 non-null float64\n",
      "GarageArea       1460 non-null float64\n",
      "WoodDeckSF       1460 non-null float64\n",
      "OpenPorchSF      1460 non-null float64\n",
      "EnclosedPorch    1460 non-null float64\n",
      "3SsnPorch        1460 non-null float64\n",
      "ScreenPorch      1460 non-null float64\n",
      "PoolArea         1460 non-null float64\n",
      "MiscVal          1460 non-null float64\n",
      "MoSold           1460 non-null float64\n",
      "YrSold           1460 non-null float64\n",
      "SalePrice        1460 non-null float64\n",
      "dtypes: float64(38)\n",
      "memory usage: 433.5 KB\n"
     ]
    }
   ],
   "source": [
    "house_num.info()\n",
    "house_copy = train.copy()"
   ]
  },
  {
   "cell_type": "code",
   "execution_count": 10,
   "metadata": {},
   "outputs": [
    {
     "name": "stdout",
     "output_type": "stream",
     "text": [
      "<class 'pandas.core.frame.DataFrame'>\n",
      "RangeIndex: 1460 entries, 0 to 1459\n",
      "Data columns (total 5 columns):\n",
      "MSZoning        1460 non-null object\n",
      "Street          1460 non-null object\n",
      "Utilities       1460 non-null object\n",
      "Neighborhood    1460 non-null object\n",
      "LotShape        1460 non-null object\n",
      "dtypes: object(5)\n",
      "memory usage: 57.1+ KB\n",
      "<class 'pandas.core.frame.DataFrame'>\n",
      "RangeIndex: 1460 entries, 0 to 1459\n",
      "Data columns (total 38 columns):\n",
      "Id               1460 non-null float64\n",
      "MSSubClass       1460 non-null float64\n",
      "LotFrontage      1460 non-null float64\n",
      "LotArea          1460 non-null float64\n",
      "OverallQual      1460 non-null float64\n",
      "OverallCond      1460 non-null float64\n",
      "YearBuilt        1460 non-null float64\n",
      "YearRemodAdd     1460 non-null float64\n",
      "MasVnrArea       1460 non-null float64\n",
      "BsmtFinSF1       1460 non-null float64\n",
      "BsmtFinSF2       1460 non-null float64\n",
      "BsmtUnfSF        1460 non-null float64\n",
      "TotalBsmtSF      1460 non-null float64\n",
      "1stFlrSF         1460 non-null float64\n",
      "2ndFlrSF         1460 non-null float64\n",
      "LowQualFinSF     1460 non-null float64\n",
      "GrLivArea        1460 non-null float64\n",
      "BsmtFullBath     1460 non-null float64\n",
      "BsmtHalfBath     1460 non-null float64\n",
      "FullBath         1460 non-null float64\n",
      "HalfBath         1460 non-null float64\n",
      "BedroomAbvGr     1460 non-null float64\n",
      "KitchenAbvGr     1460 non-null float64\n",
      "TotRmsAbvGrd     1460 non-null float64\n",
      "Fireplaces       1460 non-null float64\n",
      "GarageYrBlt      1460 non-null float64\n",
      "GarageCars       1460 non-null float64\n",
      "GarageArea       1460 non-null float64\n",
      "WoodDeckSF       1460 non-null float64\n",
      "OpenPorchSF      1460 non-null float64\n",
      "EnclosedPorch    1460 non-null float64\n",
      "3SsnPorch        1460 non-null float64\n",
      "ScreenPorch      1460 non-null float64\n",
      "PoolArea         1460 non-null float64\n",
      "MiscVal          1460 non-null float64\n",
      "MoSold           1460 non-null float64\n",
      "YrSold           1460 non-null float64\n",
      "SalePrice        1460 non-null float64\n",
      "dtypes: float64(38)\n",
      "memory usage: 433.5 KB\n",
      "<class 'pandas.core.frame.DataFrame'>\n",
      "RangeIndex: 1460 entries, 0 to 1459\n",
      "Data columns (total 38 columns):\n",
      "MSZoning_C (all)        1460 non-null uint8\n",
      "MSZoning_FV             1460 non-null uint8\n",
      "MSZoning_RH             1460 non-null uint8\n",
      "MSZoning_RL             1460 non-null uint8\n",
      "MSZoning_RM             1460 non-null uint8\n",
      "Street_Grvl             1460 non-null uint8\n",
      "Street_Pave             1460 non-null uint8\n",
      "Utilities_AllPub        1460 non-null uint8\n",
      "Utilities_NoSeWa        1460 non-null uint8\n",
      "Neighborhood_Blmngtn    1460 non-null uint8\n",
      "Neighborhood_Blueste    1460 non-null uint8\n",
      "Neighborhood_BrDale     1460 non-null uint8\n",
      "Neighborhood_BrkSide    1460 non-null uint8\n",
      "Neighborhood_ClearCr    1460 non-null uint8\n",
      "Neighborhood_CollgCr    1460 non-null uint8\n",
      "Neighborhood_Crawfor    1460 non-null uint8\n",
      "Neighborhood_Edwards    1460 non-null uint8\n",
      "Neighborhood_Gilbert    1460 non-null uint8\n",
      "Neighborhood_IDOTRR     1460 non-null uint8\n",
      "Neighborhood_MeadowV    1460 non-null uint8\n",
      "Neighborhood_Mitchel    1460 non-null uint8\n",
      "Neighborhood_NAmes      1460 non-null uint8\n",
      "Neighborhood_NPkVill    1460 non-null uint8\n",
      "Neighborhood_NWAmes     1460 non-null uint8\n",
      "Neighborhood_NoRidge    1460 non-null uint8\n",
      "Neighborhood_NridgHt    1460 non-null uint8\n",
      "Neighborhood_OldTown    1460 non-null uint8\n",
      "Neighborhood_SWISU      1460 non-null uint8\n",
      "Neighborhood_Sawyer     1460 non-null uint8\n",
      "Neighborhood_SawyerW    1460 non-null uint8\n",
      "Neighborhood_Somerst    1460 non-null uint8\n",
      "Neighborhood_StoneBr    1460 non-null uint8\n",
      "Neighborhood_Timber     1460 non-null uint8\n",
      "Neighborhood_Veenker    1460 non-null uint8\n",
      "LotShape_IR1            1460 non-null uint8\n",
      "LotShape_IR2            1460 non-null uint8\n",
      "LotShape_IR3            1460 non-null uint8\n",
      "LotShape_Reg            1460 non-null uint8\n",
      "dtypes: uint8(38)\n",
      "memory usage: 54.3 KB\n",
      "<class 'pandas.core.frame.DataFrame'>\n",
      "RangeIndex: 1460 entries, 0 to 1459\n",
      "Data columns (total 76 columns):\n",
      "Id                      1460 non-null float64\n",
      "MSSubClass              1460 non-null float64\n",
      "LotFrontage             1460 non-null float64\n",
      "LotArea                 1460 non-null float64\n",
      "OverallQual             1460 non-null float64\n",
      "OverallCond             1460 non-null float64\n",
      "YearBuilt               1460 non-null float64\n",
      "YearRemodAdd            1460 non-null float64\n",
      "MasVnrArea              1460 non-null float64\n",
      "BsmtFinSF1              1460 non-null float64\n",
      "BsmtFinSF2              1460 non-null float64\n",
      "BsmtUnfSF               1460 non-null float64\n",
      "TotalBsmtSF             1460 non-null float64\n",
      "1stFlrSF                1460 non-null float64\n",
      "2ndFlrSF                1460 non-null float64\n",
      "LowQualFinSF            1460 non-null float64\n",
      "GrLivArea               1460 non-null float64\n",
      "BsmtFullBath            1460 non-null float64\n",
      "BsmtHalfBath            1460 non-null float64\n",
      "FullBath                1460 non-null float64\n",
      "HalfBath                1460 non-null float64\n",
      "BedroomAbvGr            1460 non-null float64\n",
      "KitchenAbvGr            1460 non-null float64\n",
      "TotRmsAbvGrd            1460 non-null float64\n",
      "Fireplaces              1460 non-null float64\n",
      "GarageYrBlt             1460 non-null float64\n",
      "GarageCars              1460 non-null float64\n",
      "GarageArea              1460 non-null float64\n",
      "WoodDeckSF              1460 non-null float64\n",
      "OpenPorchSF             1460 non-null float64\n",
      "EnclosedPorch           1460 non-null float64\n",
      "3SsnPorch               1460 non-null float64\n",
      "ScreenPorch             1460 non-null float64\n",
      "PoolArea                1460 non-null float64\n",
      "MiscVal                 1460 non-null float64\n",
      "MoSold                  1460 non-null float64\n",
      "YrSold                  1460 non-null float64\n",
      "SalePrice               1460 non-null float64\n",
      "MSZoning_C (all)        1460 non-null uint8\n",
      "MSZoning_FV             1460 non-null uint8\n",
      "MSZoning_RH             1460 non-null uint8\n",
      "MSZoning_RL             1460 non-null uint8\n",
      "MSZoning_RM             1460 non-null uint8\n",
      "Street_Grvl             1460 non-null uint8\n",
      "Street_Pave             1460 non-null uint8\n",
      "Utilities_AllPub        1460 non-null uint8\n",
      "Utilities_NoSeWa        1460 non-null uint8\n",
      "Neighborhood_Blmngtn    1460 non-null uint8\n",
      "Neighborhood_Blueste    1460 non-null uint8\n",
      "Neighborhood_BrDale     1460 non-null uint8\n",
      "Neighborhood_BrkSide    1460 non-null uint8\n",
      "Neighborhood_ClearCr    1460 non-null uint8\n",
      "Neighborhood_CollgCr    1460 non-null uint8\n",
      "Neighborhood_Crawfor    1460 non-null uint8\n",
      "Neighborhood_Edwards    1460 non-null uint8\n",
      "Neighborhood_Gilbert    1460 non-null uint8\n",
      "Neighborhood_IDOTRR     1460 non-null uint8\n",
      "Neighborhood_MeadowV    1460 non-null uint8\n",
      "Neighborhood_Mitchel    1460 non-null uint8\n",
      "Neighborhood_NAmes      1460 non-null uint8\n",
      "Neighborhood_NPkVill    1460 non-null uint8\n",
      "Neighborhood_NWAmes     1460 non-null uint8\n",
      "Neighborhood_NoRidge    1460 non-null uint8\n",
      "Neighborhood_NridgHt    1460 non-null uint8\n",
      "Neighborhood_OldTown    1460 non-null uint8\n",
      "Neighborhood_SWISU      1460 non-null uint8\n",
      "Neighborhood_Sawyer     1460 non-null uint8\n",
      "Neighborhood_SawyerW    1460 non-null uint8\n",
      "Neighborhood_Somerst    1460 non-null uint8\n",
      "Neighborhood_StoneBr    1460 non-null uint8\n",
      "Neighborhood_Timber     1460 non-null uint8\n",
      "Neighborhood_Veenker    1460 non-null uint8\n",
      "LotShape_IR1            1460 non-null uint8\n",
      "LotShape_IR2            1460 non-null uint8\n",
      "LotShape_IR3            1460 non-null uint8\n",
      "LotShape_Reg            1460 non-null uint8\n",
      "dtypes: float64(38), uint8(38)\n",
      "memory usage: 487.7 KB\n"
     ]
    }
   ],
   "source": [
    "train_copy = train.select_dtypes('object').copy()\n",
    "train_copy = train[['MSZoning','Street','Utilities','Neighborhood','LotShape']].copy()\n",
    "train_copy.info()\n",
    "# train_copy.head()\n",
    "col1 = 'MSZoning'\n",
    "col2 = 'Street'\n",
    "col3 = 'Utilities'\n",
    "col4 = 'Neighborhood'\n",
    "col5 = 'LotShape'\n",
    "\n",
    "# str1 = train_copy[col1].value_counts()\n",
    "# str2 = train_copy[col2].value_counts()\n",
    "# str3 = train_copy[col3].value_counts()\n",
    "# str4 = train_copy[col4].value_counts()\n",
    "# str5 = train_copy[col5].value_counts()\n",
    "\n",
    "# value_map1 = dict((v,i) for i,v in enumerate(str1.index))\n",
    "# train_copy.replace({col1:value_map1})[col1]\n",
    "\n",
    "# value_map2 = dict((v,i) for i,v in enumerate(str2.index))\n",
    "# train_copy.replace({col2:value_map2})[col2]\n",
    "\n",
    "# value_map3 = dict((v,i) for i,v in enumerate(str3.index))\n",
    "# train_copy.replace({col3:value_map3})[col3]\n",
    "\n",
    "# value_map4 = dict((v,i) for i,v in enumerate(str4.index))\n",
    "# train_copy.replace({col4:value_map4})[col4]\n",
    "\n",
    "# value_map5 = dict((v,i) for i,v in enumerate(str5.index))\n",
    "# train_copy.replace({col5:value_map5})[col5]\n",
    "\n",
    "# from sklearn.preprocessing import OneHotEncoder\n",
    "\n",
    "# cat_encoder = OneHotEncoder()\n",
    "# trans_text = cat_encoder.fit_transform(train_copy)\n",
    "\n",
    "trans_text = pd.get_dummies(train_copy[['MSZoning','Street','Utilities','Neighborhood','LotShape']])\n",
    "\n",
    "house_num.info()\n",
    "trans_text.info()\n",
    "df = pd.concat([house_num,trans_text],axis = 1)\n",
    "df.info()\n",
    "\n"
   ]
  },
  {
   "cell_type": "code",
   "execution_count": 35,
   "metadata": {},
   "outputs": [
    {
     "name": "stdout",
     "output_type": "stream",
     "text": [
      "1444254797.2813616 38003.352447927035\n",
      "1261913335.9896653 35523.41954246051\n"
     ]
    },
    {
     "data": {
      "image/png": "[encoded data removed]",
      "text/plain": [
       "<Figure size 432x288 with 1 Axes>"
      ]
     },
     "metadata": {
      "needs_background": "light"
     },
     "output_type": "display_data"
    },
    {
     "name": "stderr",
     "output_type": "stream",
     "text": [
      "/Users/fengyongxiang/anaconda3/lib/python3.7/site-packages/sklearn/utils/validation.py:760: DataConversionWarning: A column-vector y was passed when a 1d array was expected. Please change the shape of y to (n_samples, ), for example using ravel().\n",
      "  y = column_or_1d(y, warn=True)\n"
     ]
    },
    {
     "data": {
      "text/plain": [
       "-0.017090736457136435"
      ]
     },
     "execution_count": 35,
     "metadata": {},
     "output_type": "execute_result"
    }
   ],
   "source": [
    "from sklearn.linear_model import LinearRegression\n",
    "from sklearn import metrics\n",
    "from sklearn.model_selection import cross_val_predict\n",
    "import numpy as np \n",
    "\n",
    "y = df[['SalePrice']]\n",
    "x = df.drop(['SalePrice'],axis=1)\n",
    "\n",
    "x_num = x.values\n",
    "y_num = y.values\n",
    "# print(x_num,y_num)\n",
    "from sklearn.model_selection import train_test_split\n",
    "x_train,x_test,y_train,y_test = train_test_split(x,y,test_size = 0.5)\n",
    "\n",
    "# print (x_train.shape)\n",
    "# print (x_test.shape)\n",
    "# print (y_train.shape)\n",
    "# print (y_test.shape)\n",
    "\n",
    "linear = LinearRegression()\n",
    "linear.fit(x_train,y_train)\n",
    "\n",
    "# print(linear.intercept_)\n",
    "# print(linear.coef_)\n",
    "\n",
    "y_pre = linear.predict(x_test)\n",
    "MSE = metrics.mean_squared_error(y_test,y_pre)\n",
    "RMSE = np.sqrt(metrics.mean_squared_error(y_test,y_pre))\n",
    "print(MSE,RMSE)\n",
    "\n",
    "predicted = cross_val_predict(linear,x,y,cv=15)\n",
    "MSE = metrics.mean_squared_error(y,predicted)\n",
    "RMSE = np.sqrt(metrics.mean_squared_error(y,predicted))\n",
    "print(MSE,RMSE)\n",
    "\n",
    "fig, ax = plt.subplots()\n",
    "ax.scatter(y, predicted)\n",
    "ax.plot([y.min(), y.max()], [y.min(), y.max()])\n",
    "ax.set_xlabel('Measured')\n",
    "ax.set_ylabel('Predicted')\n",
    "plt.show()\n",
    "\n",
    "from sklearn.preprocessing import StandardScaler\n",
    "\n",
    "standardScaler = StandardScaler()\n",
    "standardScaler.fit(x_train)\n",
    "X_train_standard = standardScaler.transform(x_train)\n",
    "X_test_standard = standardScaler.transform(x_test)\n",
    "standardScaler.fit(y_train)\n",
    "Y_train_standard = standardScaler.transform(y_train)\n",
    "Y_test_standard = standardScaler.transform(y_test)\n",
    "\n",
    "sgd_reg = linear_model.SGDRegressor(max_iter=100)\n",
    "sgd_reg.fit(X_train_standard, Y_test_standard)\n",
    "sgd_reg.score(X_test_standard,Y_test_standard)\n",
    "\n",
    "# pre_sgd = sgd_reg.predict(X_test_standard)\n",
    "\n",
    "# MSE = metrics.mean_squared_error(Y_test_standard,pre_sgd)\n",
    "# RMSE = np.sqrt(metrics.mean_squared_error(Y_test_standard,pre_sgd))\n",
    "# print(MSE,RMSE)\n"
   ]
  },
  {
   "cell_type": "code",
   "execution_count": 13,
   "metadata": {},
   "outputs": [
    {
     "name": "stdout",
     "output_type": "stream",
     "text": [
      "[1288198.33466986]\n",
      "[[ 9.89776334e-01 -2.57512067e+02 -9.56628207e+01  1.66167595e-01\n",
      "   1.18314965e+04  6.26953487e+03  2.29172464e+02  2.09459448e+01\n",
      "   2.00574875e+01  7.68582345e-01  4.56314780e+00 -2.25191386e+00\n",
      "   3.07918894e+00  2.15154792e+01  2.17538029e+01 -2.94736833e+01\n",
      "   1.37964990e+01  1.35355587e+04  2.95034794e+03  1.03123835e+04\n",
      "   3.20487771e+03 -3.38080521e+03 -7.07880786e+03  5.36873303e+03\n",
      "   5.41149805e+03  6.39409227e+01  1.39097772e+04 -6.62136212e+00\n",
      "   1.49614128e+01 -8.12309319e+00  4.18475190e+00 -1.17902608e+01\n",
      "   2.66828171e+01  2.93513609e+01  7.83859924e-01 -8.18091288e+01\n",
      "  -9.71557790e+02 -2.09249186e+04 -6.35583600e+03  3.22918461e+04\n",
      "   5.20763364e+02 -5.53185484e+03 -6.03605330e+03  6.03605330e+03\n",
      "   0.00000000e+00  0.00000000e+00 -6.31489089e+03  0.00000000e+00\n",
      "  -1.77735981e+04 -8.88227854e+03  5.59021871e+03 -5.12673086e+03\n",
      "   9.48097867e+03 -2.21264618e+04 -1.68336747e+04 -1.25262437e+04\n",
      "  -4.43077920e+03 -1.32549686e+04 -1.62402148e+04 -1.17608655e+04\n",
      "  -2.69459594e+04  5.56761574e+04  3.44430851e+04 -1.41196100e+04\n",
      "  -1.95706508e+04 -1.84099701e+04 -1.43482712e+04  1.63824588e+04\n",
      "   7.01115051e+04  1.29670311e+04  2.40137332e+04  7.88444987e+03\n",
      "   1.67926804e+04 -3.40195911e+04  9.34246085e+03]]\n",
      "1143685490.8507419 33818.41940201732\n",
      "1261884103.4384894 35523.00808544357\n"
     ]
    },
    {
     "data": {
      "image/png": "[encoded data removed]",
      "text/plain": [
       "<Figure size 432x288 with 1 Axes>"
      ]
     },
     "metadata": {
      "needs_background": "light"
     },
     "output_type": "display_data"
    }
   ],
   "source": [
    "from sklearn import linear_model\n",
    "\n",
    "ridge = linear_model.Ridge(alpha=0.01)\n",
    "ridge.fit(x_train,y_train)\n",
    "\n",
    "print(ridge.intercept_)\n",
    "print(ridge.coef_)\n",
    "\n",
    "y_pre = ridge.predict(x_test)\n",
    "MSE = metrics.mean_squared_error(y_test,y_pre)\n",
    "RMSE = np.sqrt(metrics.mean_squared_error(y_test,y_pre))\n",
    "print(MSE,RMSE)\n",
    "\n",
    "predicted = cross_val_predict(ridge,x,y,cv=15)\n",
    "MSE = metrics.mean_squared_error(y,predicted)\n",
    "RMSE = np.sqrt(metrics.mean_squared_error(y,predicted))\n",
    "print(MSE,RMSE)\n",
    "\n",
    "fig, ax = plt.subplots()\n",
    "ax.scatter(y, predicted)\n",
    "ax.plot([y.min(), y.max()], [y.min(), y.max()])\n",
    "ax.set_xlabel('Measured')\n",
    "ax.set_ylabel('Predicted')\n",
    "plt.show()\n"
   ]
  },
  {
   "cell_type": "code",
   "execution_count": 41,
   "metadata": {},
   "outputs": [
    {
     "name": "stdout",
     "output_type": "stream",
     "text": [
      "[163461.44030433]\n",
      "7350052006.7972145 85732.44430667549\n"
     ]
    },
    {
     "data": {
      "image/png": "[encoded data removed]",
      "text/plain": [
       "<Figure size 432x288 with 1 Axes>"
      ]
     },
     "metadata": {
      "needs_background": "light"
     },
     "output_type": "display_data"
    }
   ],
   "source": [
    "from sklearn import svm\n",
    "\n",
    "svm_model = svm.SVR()\n",
    "svm_model.fit(x_train,y_train.values.ravel())\n",
    "\n",
    "print(svm_model.intercept_)\n",
    "\n",
    "y_pre = svm_model.predict(x_test)\n",
    "MSE = metrics.mean_squared_error(y_test,y_pre)\n",
    "RMSE = np.sqrt(metrics.mean_squared_error(y_test,y_pre))\n",
    "print(MSE,RMSE)\n",
    "\n",
    "# predicted = cross_val_predict(svm_model,x,y,cv=15)\n",
    "# MSE = metrics.mean_squared_error(y,predicted)\n",
    "# RMSE = np.sqrt(metrics.mean_squared_error(y,predicted))\n",
    "# print(MSE,RMSE)\n",
    "\n",
    "fig, ax = plt.subplots()\n",
    "ax.scatter(y_test, y_pre)\n",
    "ax.plot([y.min(), y.max()], [y.min(), y.max()])\n",
    "ax.set_xlabel('Measured')\n",
    "ax.set_ylabel('Predicted')\n",
    "plt.show()\n",
    "\n",
    "from sklearn import ensemble\n",
    "model_RandomForestRegressor = ensemble.RandomForestRegressor(n_estimators=20)\n"
   ]
  },
  {
   "cell_type": "code",
   "execution_count": 40,
   "metadata": {},
   "outputs": [
    {
     "name": "stdout",
     "output_type": "stream",
     "text": [
      "1371082915.0936165 37028.13680289107\n"
     ]
    },
    {
     "data": {
      "image/png": "[encoded data removed]",
      "text/plain": [
       "<Figure size 432x288 with 1 Axes>"
      ]
     },
     "metadata": {
      "needs_background": "light"
     },
     "output_type": "display_data"
    }
   ],
   "source": [
    "from sklearn import ensemble\n",
    "\n",
    "random_forest = ensemble.RandomForestRegressor(n_estimators = 10)\n",
    "random_forest.fit(x_train,y_train.values.ravel())\n",
    "\n",
    "\n",
    "y_pre = random_forest.predict(x_test)\n",
    "MSE = metrics.mean_squared_error(y_test,y_pre)\n",
    "RMSE = np.sqrt(metrics.mean_squared_error(y_test,y_pre))\n",
    "print(MSE,RMSE)\n",
    "\n",
    "# predicted = cross_val_predict(random_forest,x,y,cv=15)\n",
    "# MSE = metrics.mean_squared_error(y,predicted)\n",
    "# RMSE = np.sqrt(metrics.mean_squared_error(y,predicted))\n",
    "# print(MSE,RMSE)\n",
    "\n",
    "fig, ax = plt.subplots()\n",
    "ax.scatter(y_test, y_pre)\n",
    "ax.plot(y, y)\n",
    "ax.set_xlabel('Measured')\n",
    "ax.set_ylabel('Predicted')\n",
    "plt.show()\n"
   ]
  },
  {
   "cell_type": "code",
   "execution_count": null,
   "metadata": {},
   "outputs": [],
   "source": []
  },
  {
   "cell_type": "code",
   "execution_count": null,
   "metadata": {},
   "outputs": [],
   "source": []
  }
 ],
 "metadata": {
  "kernelspec": {
   "display_name": "Python 3",
   "language": "python",
   "name": "python3"
  },
  "language_info": {
   "codemirror_mode": {
    "name": "ipython",
    "version": 3
   },
   "file_extension": ".py",
   "mimetype": "text/x-python",
   "name": "python",
   "nbconvert_exporter": "python",
   "pygments_lexer": "ipython3",
   "version": "3.7.3"
  }
 },
 "nbformat": 4,
 "nbformat_minor": 2
}
